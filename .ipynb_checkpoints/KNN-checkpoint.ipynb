{
 "cells": [
  {
   "cell_type": "code",
   "execution_count": 1,
   "id": "9df6789a",
   "metadata": {},
   "outputs": [
    {
     "data": {
      "text/html": [
       "<div>\n",
       "<style scoped>\n",
       "    .dataframe tbody tr th:only-of-type {\n",
       "        vertical-align: middle;\n",
       "    }\n",
       "\n",
       "    .dataframe tbody tr th {\n",
       "        vertical-align: top;\n",
       "    }\n",
       "\n",
       "    .dataframe thead th {\n",
       "        text-align: right;\n",
       "    }\n",
       "</style>\n",
       "<table border=\"1\" class=\"dataframe\">\n",
       "  <thead>\n",
       "    <tr style=\"text-align: right;\">\n",
       "      <th></th>\n",
       "      <th>A1</th>\n",
       "      <th>A2</th>\n",
       "      <th>A3</th>\n",
       "      <th>A4</th>\n",
       "      <th>A5</th>\n",
       "      <th>A6</th>\n",
       "      <th>A7</th>\n",
       "      <th>A8</th>\n",
       "      <th>A9</th>\n",
       "      <th>A10</th>\n",
       "      <th>Age_Mons</th>\n",
       "      <th>QA_Score</th>\n",
       "      <th>Sex</th>\n",
       "      <th>Ethnicity</th>\n",
       "      <th>Jaundice</th>\n",
       "      <th>Family_mem_with_ASD</th>\n",
       "      <th>Who completed the test</th>\n",
       "      <th>ASD</th>\n",
       "    </tr>\n",
       "  </thead>\n",
       "  <tbody>\n",
       "    <tr>\n",
       "      <th>0</th>\n",
       "      <td>0</td>\n",
       "      <td>0</td>\n",
       "      <td>0</td>\n",
       "      <td>0</td>\n",
       "      <td>0</td>\n",
       "      <td>0</td>\n",
       "      <td>1</td>\n",
       "      <td>1</td>\n",
       "      <td>0</td>\n",
       "      <td>1</td>\n",
       "      <td>2</td>\n",
       "      <td>3</td>\n",
       "      <td>1</td>\n",
       "      <td>2</td>\n",
       "      <td>1</td>\n",
       "      <td>0</td>\n",
       "      <td>1</td>\n",
       "      <td>0</td>\n",
       "    </tr>\n",
       "    <tr>\n",
       "      <th>1</th>\n",
       "      <td>1</td>\n",
       "      <td>1</td>\n",
       "      <td>0</td>\n",
       "      <td>0</td>\n",
       "      <td>0</td>\n",
       "      <td>1</td>\n",
       "      <td>1</td>\n",
       "      <td>0</td>\n",
       "      <td>0</td>\n",
       "      <td>0</td>\n",
       "      <td>3</td>\n",
       "      <td>4</td>\n",
       "      <td>0</td>\n",
       "      <td>0</td>\n",
       "      <td>1</td>\n",
       "      <td>0</td>\n",
       "      <td>1</td>\n",
       "      <td>1</td>\n",
       "    </tr>\n",
       "    <tr>\n",
       "      <th>2</th>\n",
       "      <td>1</td>\n",
       "      <td>0</td>\n",
       "      <td>0</td>\n",
       "      <td>0</td>\n",
       "      <td>0</td>\n",
       "      <td>0</td>\n",
       "      <td>1</td>\n",
       "      <td>1</td>\n",
       "      <td>0</td>\n",
       "      <td>1</td>\n",
       "      <td>3</td>\n",
       "      <td>4</td>\n",
       "      <td>0</td>\n",
       "      <td>2</td>\n",
       "      <td>1</td>\n",
       "      <td>0</td>\n",
       "      <td>1</td>\n",
       "      <td>1</td>\n",
       "    </tr>\n",
       "    <tr>\n",
       "      <th>3</th>\n",
       "      <td>1</td>\n",
       "      <td>1</td>\n",
       "      <td>1</td>\n",
       "      <td>1</td>\n",
       "      <td>1</td>\n",
       "      <td>1</td>\n",
       "      <td>1</td>\n",
       "      <td>1</td>\n",
       "      <td>1</td>\n",
       "      <td>1</td>\n",
       "      <td>2</td>\n",
       "      <td>10</td>\n",
       "      <td>0</td>\n",
       "      <td>5</td>\n",
       "      <td>0</td>\n",
       "      <td>0</td>\n",
       "      <td>1</td>\n",
       "      <td>1</td>\n",
       "    </tr>\n",
       "    <tr>\n",
       "      <th>4</th>\n",
       "      <td>1</td>\n",
       "      <td>1</td>\n",
       "      <td>0</td>\n",
       "      <td>1</td>\n",
       "      <td>1</td>\n",
       "      <td>1</td>\n",
       "      <td>1</td>\n",
       "      <td>1</td>\n",
       "      <td>1</td>\n",
       "      <td>1</td>\n",
       "      <td>1</td>\n",
       "      <td>9</td>\n",
       "      <td>1</td>\n",
       "      <td>0</td>\n",
       "      <td>0</td>\n",
       "      <td>1</td>\n",
       "      <td>1</td>\n",
       "      <td>1</td>\n",
       "    </tr>\n",
       "    <tr>\n",
       "      <th>...</th>\n",
       "      <td>...</td>\n",
       "      <td>...</td>\n",
       "      <td>...</td>\n",
       "      <td>...</td>\n",
       "      <td>...</td>\n",
       "      <td>...</td>\n",
       "      <td>...</td>\n",
       "      <td>...</td>\n",
       "      <td>...</td>\n",
       "      <td>...</td>\n",
       "      <td>...</td>\n",
       "      <td>...</td>\n",
       "      <td>...</td>\n",
       "      <td>...</td>\n",
       "      <td>...</td>\n",
       "      <td>...</td>\n",
       "      <td>...</td>\n",
       "      <td>...</td>\n",
       "    </tr>\n",
       "    <tr>\n",
       "      <th>1049</th>\n",
       "      <td>0</td>\n",
       "      <td>0</td>\n",
       "      <td>0</td>\n",
       "      <td>0</td>\n",
       "      <td>0</td>\n",
       "      <td>0</td>\n",
       "      <td>0</td>\n",
       "      <td>0</td>\n",
       "      <td>0</td>\n",
       "      <td>1</td>\n",
       "      <td>2</td>\n",
       "      <td>1</td>\n",
       "      <td>1</td>\n",
       "      <td>0</td>\n",
       "      <td>0</td>\n",
       "      <td>1</td>\n",
       "      <td>1</td>\n",
       "      <td>0</td>\n",
       "    </tr>\n",
       "    <tr>\n",
       "      <th>1050</th>\n",
       "      <td>0</td>\n",
       "      <td>0</td>\n",
       "      <td>1</td>\n",
       "      <td>1</td>\n",
       "      <td>1</td>\n",
       "      <td>0</td>\n",
       "      <td>1</td>\n",
       "      <td>0</td>\n",
       "      <td>1</td>\n",
       "      <td>0</td>\n",
       "      <td>0</td>\n",
       "      <td>5</td>\n",
       "      <td>0</td>\n",
       "      <td>4</td>\n",
       "      <td>1</td>\n",
       "      <td>0</td>\n",
       "      <td>1</td>\n",
       "      <td>1</td>\n",
       "    </tr>\n",
       "    <tr>\n",
       "      <th>1051</th>\n",
       "      <td>1</td>\n",
       "      <td>0</td>\n",
       "      <td>1</td>\n",
       "      <td>1</td>\n",
       "      <td>1</td>\n",
       "      <td>1</td>\n",
       "      <td>1</td>\n",
       "      <td>1</td>\n",
       "      <td>1</td>\n",
       "      <td>1</td>\n",
       "      <td>1</td>\n",
       "      <td>9</td>\n",
       "      <td>0</td>\n",
       "      <td>2</td>\n",
       "      <td>1</td>\n",
       "      <td>0</td>\n",
       "      <td>1</td>\n",
       "      <td>1</td>\n",
       "    </tr>\n",
       "    <tr>\n",
       "      <th>1052</th>\n",
       "      <td>1</td>\n",
       "      <td>0</td>\n",
       "      <td>0</td>\n",
       "      <td>0</td>\n",
       "      <td>0</td>\n",
       "      <td>0</td>\n",
       "      <td>0</td>\n",
       "      <td>1</td>\n",
       "      <td>0</td>\n",
       "      <td>1</td>\n",
       "      <td>1</td>\n",
       "      <td>3</td>\n",
       "      <td>0</td>\n",
       "      <td>0</td>\n",
       "      <td>0</td>\n",
       "      <td>1</td>\n",
       "      <td>1</td>\n",
       "      <td>0</td>\n",
       "    </tr>\n",
       "    <tr>\n",
       "      <th>1053</th>\n",
       "      <td>1</td>\n",
       "      <td>1</td>\n",
       "      <td>0</td>\n",
       "      <td>0</td>\n",
       "      <td>1</td>\n",
       "      <td>1</td>\n",
       "      <td>0</td>\n",
       "      <td>1</td>\n",
       "      <td>1</td>\n",
       "      <td>0</td>\n",
       "      <td>2</td>\n",
       "      <td>6</td>\n",
       "      <td>0</td>\n",
       "      <td>1</td>\n",
       "      <td>1</td>\n",
       "      <td>1</td>\n",
       "      <td>1</td>\n",
       "      <td>1</td>\n",
       "    </tr>\n",
       "  </tbody>\n",
       "</table>\n",
       "<p>1054 rows × 18 columns</p>\n",
       "</div>"
      ],
      "text/plain": [
       "      A1  A2  A3  A4  A5  A6  A7  A8  A9  A10  Age_Mons  QA_Score  Sex  \\\n",
       "0      0   0   0   0   0   0   1   1   0    1         2         3    1   \n",
       "1      1   1   0   0   0   1   1   0   0    0         3         4    0   \n",
       "2      1   0   0   0   0   0   1   1   0    1         3         4    0   \n",
       "3      1   1   1   1   1   1   1   1   1    1         2        10    0   \n",
       "4      1   1   0   1   1   1   1   1   1    1         1         9    1   \n",
       "...   ..  ..  ..  ..  ..  ..  ..  ..  ..  ...       ...       ...  ...   \n",
       "1049   0   0   0   0   0   0   0   0   0    1         2         1    1   \n",
       "1050   0   0   1   1   1   0   1   0   1    0         0         5    0   \n",
       "1051   1   0   1   1   1   1   1   1   1    1         1         9    0   \n",
       "1052   1   0   0   0   0   0   0   1   0    1         1         3    0   \n",
       "1053   1   1   0   0   1   1   0   1   1    0         2         6    0   \n",
       "\n",
       "      Ethnicity  Jaundice  Family_mem_with_ASD  Who completed the test  ASD  \n",
       "0             2         1                    0                       1    0  \n",
       "1             0         1                    0                       1    1  \n",
       "2             2         1                    0                       1    1  \n",
       "3             5         0                    0                       1    1  \n",
       "4             0         0                    1                       1    1  \n",
       "...         ...       ...                  ...                     ...  ...  \n",
       "1049          0         0                    1                       1    0  \n",
       "1050          4         1                    0                       1    1  \n",
       "1051          2         1                    0                       1    1  \n",
       "1052          0         0                    1                       1    0  \n",
       "1053          1         1                    1                       1    1  \n",
       "\n",
       "[1054 rows x 18 columns]"
      ]
     },
     "execution_count": 1,
     "metadata": {},
     "output_type": "execute_result"
    }
   ],
   "source": [
    "from sklearn.model_selection import train_test_split\n",
    "from sklearn.metrics import confusion_matrix\n",
    "from sklearn.metrics import classification_report\n",
    "import numpy as np # type: ignore\n",
    "import pandas as pd # type: ignore\n",
    "import matplotlib.pyplot as plt # type: ignore\n",
    "\n",
    "# Charger les données depuis le fichier Excel\n",
    "data = pd.read_excel(r'C:\\Users\\ECC\\preprocessing-conda\\Toddler Autism dataset.xlsx')\n",
    "\n",
    "data"
   ]
  },
  {
   "cell_type": "markdown",
   "id": "97ac8fdd",
   "metadata": {},
   "source": [
    "# Définition de X (Variables d'entrée) et Y (Variable cible)"
   ]
  },
  {
   "cell_type": "code",
   "execution_count": 2,
   "id": "9a1e4974",
   "metadata": {},
   "outputs": [
    {
     "data": {
      "text/html": [
       "<div>\n",
       "<style scoped>\n",
       "    .dataframe tbody tr th:only-of-type {\n",
       "        vertical-align: middle;\n",
       "    }\n",
       "\n",
       "    .dataframe tbody tr th {\n",
       "        vertical-align: top;\n",
       "    }\n",
       "\n",
       "    .dataframe thead th {\n",
       "        text-align: right;\n",
       "    }\n",
       "</style>\n",
       "<table border=\"1\" class=\"dataframe\">\n",
       "  <thead>\n",
       "    <tr style=\"text-align: right;\">\n",
       "      <th></th>\n",
       "      <th>A1</th>\n",
       "      <th>A2</th>\n",
       "      <th>A3</th>\n",
       "      <th>A4</th>\n",
       "      <th>A5</th>\n",
       "      <th>A6</th>\n",
       "      <th>A7</th>\n",
       "      <th>A8</th>\n",
       "      <th>A9</th>\n",
       "      <th>A10</th>\n",
       "      <th>Age_Mons</th>\n",
       "      <th>Sex</th>\n",
       "      <th>Jaundice</th>\n",
       "      <th>Family_mem_with_ASD</th>\n",
       "    </tr>\n",
       "  </thead>\n",
       "  <tbody>\n",
       "    <tr>\n",
       "      <th>0</th>\n",
       "      <td>0</td>\n",
       "      <td>0</td>\n",
       "      <td>0</td>\n",
       "      <td>0</td>\n",
       "      <td>0</td>\n",
       "      <td>0</td>\n",
       "      <td>1</td>\n",
       "      <td>1</td>\n",
       "      <td>0</td>\n",
       "      <td>1</td>\n",
       "      <td>2</td>\n",
       "      <td>1</td>\n",
       "      <td>1</td>\n",
       "      <td>0</td>\n",
       "    </tr>\n",
       "    <tr>\n",
       "      <th>1</th>\n",
       "      <td>1</td>\n",
       "      <td>1</td>\n",
       "      <td>0</td>\n",
       "      <td>0</td>\n",
       "      <td>0</td>\n",
       "      <td>1</td>\n",
       "      <td>1</td>\n",
       "      <td>0</td>\n",
       "      <td>0</td>\n",
       "      <td>0</td>\n",
       "      <td>3</td>\n",
       "      <td>0</td>\n",
       "      <td>1</td>\n",
       "      <td>0</td>\n",
       "    </tr>\n",
       "    <tr>\n",
       "      <th>2</th>\n",
       "      <td>1</td>\n",
       "      <td>0</td>\n",
       "      <td>0</td>\n",
       "      <td>0</td>\n",
       "      <td>0</td>\n",
       "      <td>0</td>\n",
       "      <td>1</td>\n",
       "      <td>1</td>\n",
       "      <td>0</td>\n",
       "      <td>1</td>\n",
       "      <td>3</td>\n",
       "      <td>0</td>\n",
       "      <td>1</td>\n",
       "      <td>0</td>\n",
       "    </tr>\n",
       "    <tr>\n",
       "      <th>3</th>\n",
       "      <td>1</td>\n",
       "      <td>1</td>\n",
       "      <td>1</td>\n",
       "      <td>1</td>\n",
       "      <td>1</td>\n",
       "      <td>1</td>\n",
       "      <td>1</td>\n",
       "      <td>1</td>\n",
       "      <td>1</td>\n",
       "      <td>1</td>\n",
       "      <td>2</td>\n",
       "      <td>0</td>\n",
       "      <td>0</td>\n",
       "      <td>0</td>\n",
       "    </tr>\n",
       "    <tr>\n",
       "      <th>4</th>\n",
       "      <td>1</td>\n",
       "      <td>1</td>\n",
       "      <td>0</td>\n",
       "      <td>1</td>\n",
       "      <td>1</td>\n",
       "      <td>1</td>\n",
       "      <td>1</td>\n",
       "      <td>1</td>\n",
       "      <td>1</td>\n",
       "      <td>1</td>\n",
       "      <td>1</td>\n",
       "      <td>1</td>\n",
       "      <td>0</td>\n",
       "      <td>1</td>\n",
       "    </tr>\n",
       "    <tr>\n",
       "      <th>...</th>\n",
       "      <td>...</td>\n",
       "      <td>...</td>\n",
       "      <td>...</td>\n",
       "      <td>...</td>\n",
       "      <td>...</td>\n",
       "      <td>...</td>\n",
       "      <td>...</td>\n",
       "      <td>...</td>\n",
       "      <td>...</td>\n",
       "      <td>...</td>\n",
       "      <td>...</td>\n",
       "      <td>...</td>\n",
       "      <td>...</td>\n",
       "      <td>...</td>\n",
       "    </tr>\n",
       "    <tr>\n",
       "      <th>1049</th>\n",
       "      <td>0</td>\n",
       "      <td>0</td>\n",
       "      <td>0</td>\n",
       "      <td>0</td>\n",
       "      <td>0</td>\n",
       "      <td>0</td>\n",
       "      <td>0</td>\n",
       "      <td>0</td>\n",
       "      <td>0</td>\n",
       "      <td>1</td>\n",
       "      <td>2</td>\n",
       "      <td>1</td>\n",
       "      <td>0</td>\n",
       "      <td>1</td>\n",
       "    </tr>\n",
       "    <tr>\n",
       "      <th>1050</th>\n",
       "      <td>0</td>\n",
       "      <td>0</td>\n",
       "      <td>1</td>\n",
       "      <td>1</td>\n",
       "      <td>1</td>\n",
       "      <td>0</td>\n",
       "      <td>1</td>\n",
       "      <td>0</td>\n",
       "      <td>1</td>\n",
       "      <td>0</td>\n",
       "      <td>0</td>\n",
       "      <td>0</td>\n",
       "      <td>1</td>\n",
       "      <td>0</td>\n",
       "    </tr>\n",
       "    <tr>\n",
       "      <th>1051</th>\n",
       "      <td>1</td>\n",
       "      <td>0</td>\n",
       "      <td>1</td>\n",
       "      <td>1</td>\n",
       "      <td>1</td>\n",
       "      <td>1</td>\n",
       "      <td>1</td>\n",
       "      <td>1</td>\n",
       "      <td>1</td>\n",
       "      <td>1</td>\n",
       "      <td>1</td>\n",
       "      <td>0</td>\n",
       "      <td>1</td>\n",
       "      <td>0</td>\n",
       "    </tr>\n",
       "    <tr>\n",
       "      <th>1052</th>\n",
       "      <td>1</td>\n",
       "      <td>0</td>\n",
       "      <td>0</td>\n",
       "      <td>0</td>\n",
       "      <td>0</td>\n",
       "      <td>0</td>\n",
       "      <td>0</td>\n",
       "      <td>1</td>\n",
       "      <td>0</td>\n",
       "      <td>1</td>\n",
       "      <td>1</td>\n",
       "      <td>0</td>\n",
       "      <td>0</td>\n",
       "      <td>1</td>\n",
       "    </tr>\n",
       "    <tr>\n",
       "      <th>1053</th>\n",
       "      <td>1</td>\n",
       "      <td>1</td>\n",
       "      <td>0</td>\n",
       "      <td>0</td>\n",
       "      <td>1</td>\n",
       "      <td>1</td>\n",
       "      <td>0</td>\n",
       "      <td>1</td>\n",
       "      <td>1</td>\n",
       "      <td>0</td>\n",
       "      <td>2</td>\n",
       "      <td>0</td>\n",
       "      <td>1</td>\n",
       "      <td>1</td>\n",
       "    </tr>\n",
       "  </tbody>\n",
       "</table>\n",
       "<p>1054 rows × 14 columns</p>\n",
       "</div>"
      ],
      "text/plain": [
       "      A1  A2  A3  A4  A5  A6  A7  A8  A9  A10  Age_Mons  Sex  Jaundice  \\\n",
       "0      0   0   0   0   0   0   1   1   0    1         2    1         1   \n",
       "1      1   1   0   0   0   1   1   0   0    0         3    0         1   \n",
       "2      1   0   0   0   0   0   1   1   0    1         3    0         1   \n",
       "3      1   1   1   1   1   1   1   1   1    1         2    0         0   \n",
       "4      1   1   0   1   1   1   1   1   1    1         1    1         0   \n",
       "...   ..  ..  ..  ..  ..  ..  ..  ..  ..  ...       ...  ...       ...   \n",
       "1049   0   0   0   0   0   0   0   0   0    1         2    1         0   \n",
       "1050   0   0   1   1   1   0   1   0   1    0         0    0         1   \n",
       "1051   1   0   1   1   1   1   1   1   1    1         1    0         1   \n",
       "1052   1   0   0   0   0   0   0   1   0    1         1    0         0   \n",
       "1053   1   1   0   0   1   1   0   1   1    0         2    0         1   \n",
       "\n",
       "      Family_mem_with_ASD  \n",
       "0                       0  \n",
       "1                       0  \n",
       "2                       0  \n",
       "3                       0  \n",
       "4                       1  \n",
       "...                   ...  \n",
       "1049                    1  \n",
       "1050                    0  \n",
       "1051                    0  \n",
       "1052                    1  \n",
       "1053                    1  \n",
       "\n",
       "[1054 rows x 14 columns]"
      ]
     },
     "execution_count": 2,
     "metadata": {},
     "output_type": "execute_result"
    }
   ],
   "source": [
    "x=data.drop(columns=['ASD', 'QA_Score', 'Who completed the test','Ethnicity'])\n",
    "x"
   ]
  },
  {
   "cell_type": "code",
   "execution_count": 3,
   "id": "63f5afc0",
   "metadata": {},
   "outputs": [
    {
     "data": {
      "text/plain": [
       "0       0\n",
       "1       1\n",
       "2       1\n",
       "3       1\n",
       "4       1\n",
       "       ..\n",
       "1049    0\n",
       "1050    1\n",
       "1051    1\n",
       "1052    0\n",
       "1053    1\n",
       "Name: ASD, Length: 1054, dtype: int64"
      ]
     },
     "execution_count": 3,
     "metadata": {},
     "output_type": "execute_result"
    }
   ],
   "source": [
    "y=data['ASD']\n",
    "y"
   ]
  },
  {
   "cell_type": "markdown",
   "id": "5003ca01",
   "metadata": {},
   "source": [
    "# Partition des données (Entraînement 60%, Validation 20%, Test 20%)"
   ]
  },
  {
   "cell_type": "code",
   "execution_count": 4,
   "id": "66c1c724",
   "metadata": {},
   "outputs": [],
   "source": [
    "from sklearn.model_selection import train_test_split\n",
    "from sklearn.metrics import confusion_matrix\n",
    "from sklearn.metrics import classification_report\n"
   ]
  },
  {
   "cell_type": "code",
   "execution_count": 5,
   "id": "a2f7fce3",
   "metadata": {},
   "outputs": [],
   "source": [
    "X_train,X_test,Y_train,Y_test = train_test_split(x,y,test_size=0.2,random_state=0)\n",
    "X_train, X_val, Y_train, Y_val = train_test_split(x,y,test_size=0.25,random_state=0)"
   ]
  },
  {
   "cell_type": "code",
   "execution_count": 6,
   "id": "173af664",
   "metadata": {},
   "outputs": [
    {
     "data": {
      "text/plain": [
       "((790, 14), (211, 14), (264, 14), (790,), (211,), (264,))"
      ]
     },
     "execution_count": 6,
     "metadata": {},
     "output_type": "execute_result"
    }
   ],
   "source": [
    "X_train.shape,X_test.shape,X_val.shape,Y_train.shape,Y_test.shape,Y_val.shape\n"
   ]
  },
  {
   "cell_type": "markdown",
   "id": "75d029b8",
   "metadata": {},
   "source": [
    "# Naive Bayes\n",
    "Le modèle Naive Bayes est utilisé dans ce contexte pour effectuer une classification. Il est entraîné sur un ensemble de données d'entraînement (`X_train`, `Y_train`) et évalué sur des ensembles de validation (`X_val`, `Y_val`) et de test (`X_test`, `Y_test`). L'algorithme utilise la fonction `GaussianNB` du module `sklearn.naive_bayes` pour construire le modèle en supposant que les caractéristiques sont conditionnellement indépendantes. Pour évaluer les performances du modèle, la précision est calculée à l'aide de la fonction `accuracy_score` du module `sklearn.metrics`.\n"
   ]
  },
  {
   "cell_type": "markdown",
   "id": "5fc09c5b",
   "metadata": {},
   "source": [
    " "
   ]
  },
  {
   "cell_type": "code",
   "execution_count": 7,
   "id": "3c3c1e90",
   "metadata": {},
   "outputs": [],
   "source": [
    "# Importation de la classe GaussianNB du module sklearn.naive_bayes\n",
    "from sklearn.naive_bayes import GaussianNB\n",
    "# Importation de la fonction accuracy_score du module sklearn.metrics\n",
    "from sklearn.metrics import accuracy_score\n",
    "\n",
    "# Initialisation et entraînement du modèle Naive Bayes\n",
    "nb = GaussianNB().fit(X_train, Y_train)"
   ]
  },
  {
   "cell_type": "code",
   "execution_count": 8,
   "id": "c0429ad9",
   "metadata": {},
   "outputs": [
    {
     "name": "stdout",
     "output_type": "stream",
     "text": [
      "Accuracy du modèle Naive Bayes sur l'ensemble de test: 93.36\n"
     ]
    }
   ],
   "source": [
    "# Calcul de l'accuracy du modèle sur l'ensemble de test\n",
    "score_nb = round(accuracy_score(nb.predict(X_test), Y_test) * 100, 2)\n",
    "print(\"Accuracy du modèle Naive Bayes sur l'ensemble de test:\", score_nb)\n"
   ]
  },
  {
   "cell_type": "code",
   "execution_count": 9,
   "id": "ce508a7f",
   "metadata": {},
   "outputs": [
    {
     "name": "stdout",
     "output_type": "stream",
     "text": [
      "Accuracy et matrice de confusion pour l'ensemble d'entraînement:\n",
      "Confusion Matrix (Accuracy 0.9494)\n",
      "\n",
      "       Prediction\n",
      "Actual   0   1\n",
      "     0 235  17\n",
      "     1  23 515\n",
      "Accuracy et matrice de confusion pour l'ensemble de test:\n",
      "Confusion Matrix (Accuracy 0.9336)\n",
      "\n",
      "       Prediction\n",
      "Actual   0   1\n",
      "     0  52   6\n",
      "     1   8 145\n",
      "Accuracy et matrice de confusion pour l'ensemble de validation:\n",
      "Confusion Matrix (Accuracy 0.9356)\n",
      "\n",
      "       Prediction\n",
      "Actual   0   1\n",
      "     0  65   9\n",
      "     1   8 182\n"
     ]
    }
   ],
   "source": [
    "from dmba import classificationSummary\n",
    "\n",
    "# Affichage de l'accuracy et de la matrice de confusion pour l'ensemble d'entraînement\n",
    "print(\"Accuracy et matrice de confusion pour l'ensemble d'entraînement:\")\n",
    "classificationSummary(Y_train, nb.predict(X_train))\n",
    "\n",
    "# Affichage de l'accuracy et de la matrice de confusion pour l'ensemble de test\n",
    "print(\"Accuracy et matrice de confusion pour l'ensemble de test:\")\n",
    "classificationSummary(Y_test, nb.predict(X_test))\n",
    "\n",
    "# Affichage de l'accuracy et de la matrice de confusion pour l'ensemble de validation\n",
    "print(\"Accuracy et matrice de confusion pour l'ensemble de validation:\")\n",
    "classificationSummary(Y_val, nb.predict(X_val))"
   ]
  },
  {
   "cell_type": "markdown",
   "id": "01935eb6",
   "metadata": {},
   "source": [
    "  "
   ]
  },
  {
   "cell_type": "markdown",
   "id": "c7d52927",
   "metadata": {},
   "source": [
    "Le modèle Naive Bayes présente des performances remarquables, avec une précision de 93,36% sur l'ensemble de test, 94,94% sur l'ensemble d'entraînement et 93,56% sur l'ensemble de validation. Ces résultats démontrent la capacité du modèle à généraliser efficacement aux données inconnues, ce qui en fait un choix prometteur pour la classification dans ce contexte."
   ]
  },
  {
   "cell_type": "markdown",
   "id": "bdd35011",
   "metadata": {},
   "source": [
    "\n"
   ]
  },
  {
   "cell_type": "markdown",
   "id": "1eb788dc",
   "metadata": {},
   "source": [
    "# K Nearest Neighbors(K Plus Proches Voisins)\n"
   ]
  },
  {
   "cell_type": "markdown",
   "id": "582e674a",
   "metadata": {},
   "source": [
    "- **Hyperparamètres** : Les hyperparamètres sont des paramètres du modèle qui ne sont pas appris à partir des données mais qui sont fixés avant l'apprentissage du modèle. Par exemple, le nombre de voisins (k) dans le modèle KNN est un hyperparamètre.\n",
    "\n",
    "- **Grille des hyperparamètres** : La grille des hyperparamètres est définie comme un dictionnaire contenant les hyperparamètres à tester avec leurs valeurs potentielles. Par exemple, pour un classifieur KNN, la grille des hyperparamètres pour le nombre de voisins (k) peut être définie comme param_grid = {'n_neighbors': range(1, 30, 2)} pour tester des valeurs de k de 1 à 29 avec un pas de 2.\n",
    "\n",
    "- **Métrique à optimiser** : La métrique à optimiser est définie comme la mesure utilisée pour évaluer les performances du modèle et choisir les meilleurs hyperparamètres. Pour un problème de classification binaire, la métrique couramment utilisée est l'accuracy (précision), qui mesure le nombre de prédictions correctes parmi toutes les prédictions.\n",
    "\n",
    "- **Validation croisée** : La validation croisée est une technique utilisée pour évaluer les performances d'un modèle en partitionnant les données d'entraînement en ensembles de validation et ensembles d'entraînement. Cela permet d'estimer les performances du modèle sur des données non vues et d'éviter le surapprentissage."
   ]
  },
  {
   "cell_type": "markdown",
   "id": "0d309a8c",
   "metadata": {},
   "source": [
    "               **Import des bibliothèques et définition du modèle**\n"
   ]
  },
  {
   "cell_type": "code",
   "execution_count": 10,
   "id": "d8afc30f",
   "metadata": {},
   "outputs": [],
   "source": [
    "from sklearn.model_selection import GridSearchCV, cross_val_score\n",
    "from sklearn.neighbors import KNeighborsClassifier\n",
    "import matplotlib.pyplot as plt\n",
    "import seaborn as sns\n",
    "\n",
    "# Définition du modèle KNN\n",
    "knn = KNeighborsClassifier()\n"
   ]
  },
  {
   "cell_type": "markdown",
   "id": "5880e76b",
   "metadata": {},
   "source": [
    "                  **Recherche du meilleur K**"
   ]
  },
  {
   "cell_type": "code",
   "execution_count": 11,
   "id": "a3865b59",
   "metadata": {},
   "outputs": [],
   "source": [
    "# Définition de la grille des hyperparamètres à rechercher\n",
    "param_grid = {'n_neighbors': range(1, 30, 2)}  # Recherche de k de 1 à 29, avec un pas de 2\n",
    "\n",
    "# Initialisation de GridSearchCV avec le modèle, la grille des hyperparamètres et la métrique à optimiser\n",
    "grid_search = GridSearchCV(knn, param_grid, cv=5, scoring='accuracy')\n",
    "\n",
    "# Exécution de la recherche sur grille sur les données d'entraînement\n",
    "grid_search.fit(X_train, Y_train)\n",
    "\n",
    "# Obtention des meilleurs paramètres\n",
    "best_params = grid_search.best_params_\n",
    "\n",
    "# Sélection du meilleur K\n",
    "best_k = best_params['n_neighbors']\n"
   ]
  },
  {
   "cell_type": "markdown",
   "id": "9156f847",
   "metadata": {},
   "source": [
    "            ** Affichage du meilleur K et du heatmap**"
   ]
  },
  {
   "cell_type": "code",
   "execution_count": 12,
   "id": "2ac16ea7",
   "metadata": {},
   "outputs": [
    {
     "name": "stdout",
     "output_type": "stream",
     "text": [
      "Meilleur nombre de voisins trouvé par la recherche sur grille : 21\n"
     ]
    },
    {
     "data": {
      "image/png": "[encoded data removed]",
      "text/plain": [
       "<Figure size 640x480 with 2 Axes>"
      ]
     },
     "metadata": {},
     "output_type": "display_data"
    }
   ],
   "source": [
    "# Affichage du meilleur K\n",
    "print(\"Meilleur nombre de voisins trouvé par la recherche sur grille :\", best_k)\n",
    "\n",
    "# Affichage du heatmap des performances du modèle KNN en fonction de k\n",
    "results_df = pd.DataFrame(grid_search.cv_results_)\n",
    "pivot_table = results_df.pivot_table(index='param_n_neighbors', values='mean_test_score', aggfunc=np.mean)\n",
    "sns.heatmap(pivot_table, annot=True, fmt=\".3f\", cmap=\"YlGnBu\")\n",
    "plt.xlabel('Nombre de voisins (k)')\n",
    "plt.ylabel('Scores moyens de test')\n",
    "plt.title('Heatmap des performances du modèle KNN en fonction de k')\n",
    "plt.show()\n"
   ]
  },
  {
   "cell_type": "markdown",
   "id": "8608e566",
   "metadata": {},
   "source": [
    "       **Entraînement et évaluation finale du modèle avec le meilleur K**"
   ]
  },
  {
   "cell_type": "code",
   "execution_count": 13,
   "id": "5f46ef4a",
   "metadata": {},
   "outputs": [
    {
     "name": "stdout",
     "output_type": "stream",
     "text": [
      "Accuracy on test set with best K: 0.957345971563981\n"
     ]
    }
   ],
   "source": [
    "# Entraînement du modèle final avec le meilleur K\n",
    "best_knn = KNeighborsClassifier(n_neighbors=best_k)\n",
    "best_knn.fit(X_train, Y_train)\n",
    "\n",
    "# Prédiction sur les données de test avec le meilleur K\n",
    "Y_pred = best_knn.predict(X_test)\n",
    "\n",
    "# Évaluation finale du modèle sur les données de test avec le meilleur K\n",
    "accuracy = accuracy_score(Y_test, Y_pred)\n",
    "print(\"Accuracy on test set with best K:\", accuracy)\n"
   ]
  },
  {
   "cell_type": "code",
   "execution_count": 14,
   "id": "f8796ef4",
   "metadata": {},
   "outputs": [],
   "source": [
    "# Supposons que X_new sont les nouvelles données à prédire\n",
    "Y_pred = best_knn.predict(X_val)\n"
   ]
  },
  {
   "cell_type": "code",
   "execution_count": 15,
   "id": "779b5e44",
   "metadata": {},
   "outputs": [
    {
     "name": "stdout",
     "output_type": "stream",
     "text": [
      "Accuracy on test set with best K: 0.9583333333333334\n"
     ]
    }
   ],
   "source": [
    "# Évaluation finale du modèle sur les données de test avec le meilleur K\n",
    "accuracy2 = accuracy_score(Y_val, Y_pred)\n",
    "print(\"Accuracy on test set with best K:\", accuracy2)"
   ]
  },
  {
   "cell_type": "code",
   "execution_count": 16,
   "id": "67900249",
   "metadata": {},
   "outputs": [
    {
     "name": "stdout",
     "output_type": "stream",
     "text": [
      "   A1  A2  A3  A4  A5  A6  A7  A8  A9  A10  Age_Mons  Sex  Jaundice  \\\n",
      "0   1   1   0   1   1   1   1   0   1    0         0    1         0   \n",
      "\n",
      "   Family_mem_with_ASD  \n",
      "0                    0  \n"
     ]
    }
   ],
   "source": [
    "\n",
    "# Générer un tuple aléatoire avec le nom des données pour teste sur de nouvelles données \n",
    "random_data = np.random.randint(0, 2, size=(1, len(X_train.columns)))\n",
    "\n",
    "# Convertir en DataFrame pour avoir le bon format\n",
    "random_data_df = pd.DataFrame(random_data, columns=X_train.columns)\n",
    "\n",
    "# Afficher le tuple aléatoire\n",
    "print(random_data_df)\n"
   ]
  },
  {
   "cell_type": "code",
   "execution_count": 17,
   "id": "569e87f7",
   "metadata": {},
   "outputs": [
    {
     "name": "stdout",
     "output_type": "stream",
     "text": [
      "Predicted ASD: [1]\n"
     ]
    }
   ],
   "source": [
    "# Utilisez le modèle entraîné pour faire une prédiction sur les nouvelles données\n",
    "predicted_asd = best_knn.predict(random_data_df)\n",
    "\n",
    "# Affichez la prédiction\n",
    "print(\"Predicted ASD:\", predicted_asd)"
   ]
  },
  {
   "cell_type": "markdown",
   "id": "ff5c1b5a",
   "metadata": {},
   "source": [
    "\n",
    "Le modèle KNN (K-Nearest Neighbors) a montré des performances robustes dans la classification des données. Avec un choix optimal de 21 voisins, le modèle a obtenu une précision de 95,73% sur l'ensemble de test, démontrant sa capacité à généraliser efficacement aux données inconnues. Cette précision est cohérente avec les scores obtenus lors de la validation croisée, confirmant la fiabilité du modèle. Ainsi, le modèle KNN peut être considéré comme une option prometteuse pour la classification des enfant autistes ."
   ]
  },
  {
   "cell_type": "code",
   "execution_count": 21,
   "id": "11a68d1a",
   "metadata": {},
   "outputs": [
    {
     "name": "stdout",
     "output_type": "stream",
     "text": [
      "   A1  A2  A3  A4  A5  A6  A7  A8  A9  A10  Age_Mons  Sex  Jaundice  \\\n",
      "0   1   0   0   0   0   0   0   0   0    0         2    1         0   \n",
      "\n",
      "   Family_mem_with_ASD  \n",
      "0                    0  \n"
     ]
    }
   ],
   "source": [
    "# Définir manuellement les données pour le test\n",
    "manual_data = {\n",
    "    'A1': [1],\n",
    "    'A2': [0],\n",
    "    'A3': [0],\n",
    "    'A4': [0],\n",
    "    'A5': [0],\n",
    "    'A6': [0],\n",
    "    'A7': [0],\n",
    "    'A8': [0],\n",
    "    'A9': [0],\n",
    "    'A10': [0],\n",
    "    'Age_Mons': [2],\n",
    "    'Sex': [1],\n",
    "    'Jaundice': [0],\n",
    "    'Family_mem_with_ASD': [0],\n",
    "}\n",
    "\n",
    "# Convertir en DataFrame\n",
    "manual_data_df = pd.DataFrame(manual_data)\n",
    "\n",
    "# Afficher les données manuelles\n",
    "print(manual_data_df)\n"
   ]
  },
  {
   "cell_type": "code",
   "execution_count": 22,
   "id": "b1830307",
   "metadata": {},
   "outputs": [
    {
     "name": "stdout",
     "output_type": "stream",
     "text": [
      "Predicted ASD: [0]\n"
     ]
    }
   ],
   "source": [
    "# Utilisez le modèle entraîné pour faire une prédiction sur les nouvelles données\n",
    "predicted_asd = best_knn.predict(manual_data_df)\n",
    "\n",
    "# Affichez la prédiction\n",
    "print(\"Predicted ASD:\", predicted_asd)"
   ]
  },
  {
   "cell_type": "code",
   "execution_count": null,
   "id": "1f67bb2c",
   "metadata": {},
   "outputs": [],
   "source": []
  }
 ],
 "metadata": {
  "kernelspec": {
   "display_name": "Python 3 (ipykernel)",
   "language": "python",
   "name": "python3"
  },
  "language_info": {
   "codemirror_mode": {
    "name": "ipython",
    "version": 3
   },
   "file_extension": ".py",
   "mimetype": "text/x-python",
   "name": "python",
   "nbconvert_exporter": "python",
   "pygments_lexer": "ipython3",
   "version": "3.11.5"
  }
 },
 "nbformat": 4,
 "nbformat_minor": 5
}
